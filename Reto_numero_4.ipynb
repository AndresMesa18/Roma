{
  "nbformat": 4,
  "nbformat_minor": 0,
  "metadata": {
    "colab": {
      "provenance": [],
      "collapsed_sections": [
        "TPV5v1b-PnuV",
        "rtEEWQi3QJbk",
        "M78s6z2QZCY0",
        "rfAzfko-cNIU",
        "ADKxH4OAd0qM",
        "2pyBVfxGe9pE",
        "OwscZaFktpPv",
        "3mty5S1NxqpQ"
      ],
      "authorship_tag": "ABX9TyNothdH6Yp+0L2ukgF17eno",
      "include_colab_link": true
    },
    "kernelspec": {
      "name": "python3",
      "display_name": "Python 3"
    },
    "language_info": {
      "name": "python"
    }
  },
  "cells": [
    {
      "cell_type": "markdown",
      "metadata": {
        "id": "view-in-github",
        "colab_type": "text"
      },
      "source": [
        "<a href=\"https://colab.research.google.com/github/AndresMesa18/Roma/blob/main/Reto_numero_4.ipynb\" target=\"_parent\"><img src=\"https://colab.research.google.com/assets/colab-badge.svg\" alt=\"Open In Colab\"/></a>"
      ]
    },
    {
      "cell_type": "markdown",
      "source": [
        "#Actividad numero 4 de Git Hub"
      ],
      "metadata": {
        "id": "nCHTpZRDP40j"
      }
    },
    {
      "cell_type": "markdown",
      "source": [
        "###Primer Punto - Vocales ASCII\n"
      ],
      "metadata": {
        "id": "TPV5v1b-PnuV"
      }
    },
    {
      "cell_type": "code",
      "execution_count": 12,
      "metadata": {
        "colab": {
          "base_uri": "https://localhost:8080/"
        },
        "id": "6JPoke6ONwVt",
        "outputId": "857af89e-486a-4616-957d-a2c8620e628c"
      },
      "outputs": [
        {
          "output_type": "stream",
          "name": "stdout",
          "text": [
            "Ingrese un numero entero: 117\n",
            "el numero ingresado corresponde a la vocal minuscula 'u' dentro del codigo ASCII\n"
          ]
        }
      ],
      "source": [
        "a : int\n",
        "a = int(input(\"Ingrese un numero entero: \"))\n",
        "if a == 97:\n",
        "  print(\"el numero ingresado corresponde a la vocal minuscula 'a' dentro del codigo ASCII\")\n",
        "elif a == 101:\n",
        "  print(\"el numero ingresado corresponde a la vocal minuscula 'e' dentro del codigo ASCII\")\n",
        "elif a == 105:\n",
        "  print(\"el numero ingresado corresponde a la vocal minuscula 'i' dentro del codigo ASCII\")\n",
        "elif a == 111:\n",
        "  print(\"el numero ingresado corresponde a la vocal minuscula 'o' dentro del codigo ASCII\")\n",
        "elif a == 117:\n",
        "  print(\"el numero ingresado corresponde a la vocal minuscula 'u' dentro del codigo ASCII\")\n",
        "else:\n",
        "  print(\"el numero ingresado no corresponde a ninguna vocal minuscula en codigo ASCII\")"
      ]
    },
    {
      "cell_type": "markdown",
      "source": [
        "### Segundo Punto - Par o impar ASCII?"
      ],
      "metadata": {
        "id": "rtEEWQi3QJbk"
      }
    },
    {
      "cell_type": "code",
      "source": [
        "a : str\n",
        "a = (input(\"ingrese un caracter (solo uno porfavor !!!!!) dentro del alfabeto ingles: \"))\n",
        "sbl_ASCII = ord(a)\n",
        "\n",
        "if sbl_ASCII % 2 == 0:\n",
        "  print(\"el caracter ingresado corresponde a un numero par dentro del codigo ASCII\")\n",
        "else:\n",
        "  print(\"el caracter ingresado corresponde a un numero impar dentro del codigo ASCII\")"
      ],
      "metadata": {
        "colab": {
          "base_uri": "https://localhost:8080/"
        },
        "id": "sJ8V9L3tQJ2c",
        "outputId": "c59e6a94-cf7c-41d3-bb23-c176ccdd4084"
      },
      "execution_count": 27,
      "outputs": [
        {
          "output_type": "stream",
          "name": "stdout",
          "text": [
            "ingrese un caracter (solo uno porfavor !!!!!) dentro del alfabeto ingles: c\n",
            "el caracter ingresado corresponde a un numero impar dentro del codigo ASCII\n"
          ]
        }
      ]
    },
    {
      "cell_type": "markdown",
      "source": [
        "### Tercer punto - Digito ASCII?"
      ],
      "metadata": {
        "id": "M78s6z2QZCY0"
      }
    },
    {
      "cell_type": "code",
      "source": [
        "a : str\n",
        "a = (input(\"ingrese un caracter (solo uno porfavor !!!!!) dentro del alfabeto ingles: \"))\n",
        "sbl_ASCII = ord(a)\n",
        "\n",
        "if sbl_ASCII >= 48 and sbl_ASCII <= 57:\n",
        "  print(\"el caracter ingresado corresponde a un digito dentro del codigo ASCII\")\n",
        "else:\n",
        "  print(\"el caracter ingresado no es un digito dentro del codigo ASCII\")"
      ],
      "metadata": {
        "colab": {
          "base_uri": "https://localhost:8080/"
        },
        "id": "UsyB61wyZh2G",
        "outputId": "59bd298a-8dbf-4e77-8dbf-0dcef572be0a"
      },
      "execution_count": 30,
      "outputs": [
        {
          "output_type": "stream",
          "name": "stdout",
          "text": [
            "ingrese un caracter (solo uno porfavor !!!!!) dentro del alfabeto ingles: n\n",
            "el caracter ingresado no es un digito dentro del codigo ASCII\n"
          ]
        }
      ]
    },
    {
      "cell_type": "markdown",
      "source": [
        "### Cuarto punto - Multiplo?"
      ],
      "metadata": {
        "id": "rfAzfko-cNIU"
      }
    },
    {
      "cell_type": "code",
      "source": [
        "a = float(input(\"ingrese un numero: \"))\n",
        "b = float(input(\"ingrese otro numero: \"))\n",
        "\n",
        "print(\" \")\n",
        "if a % b == 0:\n",
        "  print(\"El primer numero es multiplo del segundo\")\n",
        "else:\n",
        "  print(\"El pirmer numero no es multiplo del segundo\")\n",
        "\n",
        "\n"
      ],
      "metadata": {
        "colab": {
          "base_uri": "https://localhost:8080/"
        },
        "id": "SmnnQV0ecYit",
        "outputId": "1f664506-1213-4a9b-e39e-074f34a42a12"
      },
      "execution_count": 34,
      "outputs": [
        {
          "output_type": "stream",
          "name": "stdout",
          "text": [
            "ingrese un numero: 4\n",
            "ingrese otro numero: 2\n",
            " \n",
            "El primer numero es multiplo del segundo\n"
          ]
        }
      ]
    },
    {
      "cell_type": "markdown",
      "source": [
        "### Quinto punto - positivo, negativo o cero?"
      ],
      "metadata": {
        "id": "ADKxH4OAd0qM"
      }
    },
    {
      "cell_type": "code",
      "source": [
        "a = float(input(\"ingrese un numero:\"))\n",
        "\n",
        "if a > 0:\n",
        "  print(\"El numero ingresado es positivo\")\n",
        "elif a < 0:\n",
        "  print(\"El numero ingresado es negativo\")\n",
        "else:\n",
        "  print(\"El numero ingresado es igual a cero\")"
      ],
      "metadata": {
        "colab": {
          "base_uri": "https://localhost:8080/"
        },
        "id": "LBU5XnbZeCqq",
        "outputId": "bd970b57-d9b1-4b2d-e4c2-e582ca333474"
      },
      "execution_count": 39,
      "outputs": [
        {
          "output_type": "stream",
          "name": "stdout",
          "text": [
            "ingrese un numero:-1\n",
            "El numero ingresado es negativo\n"
          ]
        }
      ]
    },
    {
      "cell_type": "markdown",
      "source": [
        "### Sexto punto - Punto dentro de un ciruclo?"
      ],
      "metadata": {
        "id": "2pyBVfxGe9pE"
      }
    },
    {
      "cell_type": "code",
      "source": [
        "\n",
        "import random\n",
        "x = float(input(\"Ingrese un numero real para la cordenada en x del centro del circulo: \"))\n",
        "y = float(input(\"Ingrese un numero real para la cordenada en y del centro del circulo: \"))\n",
        "\n",
        "radio = float(input(\"Ingrese un valor para el radio del circulo 'r': \"))\n",
        "\n",
        "print(\" \")\n",
        "\n",
        "print(\"Centro del circulo (x,y) = \"+\"(\"+str(x)+\" , \"+str(y)+\")\"+\" y radio: \"+str(radio))\n",
        "\n",
        "x_rand = random.randint(-10**2, 10**2)\n",
        "y_rand = random.randint(-10**2, 10**2)\n",
        "\n",
        "print(\"Punto aleatorio R2= (x2,y2) que puede o no estar presente dentro de la circunferencia = \"+\"(\"+str(x_rand)+\" , \"+str(y_rand)+\")\")\n",
        "\n",
        "\n",
        "print(\" \")\n",
        "if ((x_rand-x)**2 + (y_rand-y)**2) <= radio**2:\n",
        "  print(\"El punto R2 esta dentro del circulo\")\n",
        "else:\n",
        "  print(\"La coordenada R2 no esta dentro del circulo\")"
      ],
      "metadata": {
        "colab": {
          "base_uri": "https://localhost:8080/"
        },
        "id": "sDfulprpfaz1",
        "outputId": "512d7b01-5233-4acb-dba8-e049e9c7b89e"
      },
      "execution_count": 67,
      "outputs": [
        {
          "output_type": "stream",
          "name": "stdout",
          "text": [
            "Ingrese un numero real para la cordenada en x del centro del circulo: 32\n",
            "Ingrese un numero real para la cordenada en y del centro del circulo: 5\n",
            "Ingrese un valor para el radio del circulo 'r': 45\n",
            " \n",
            "Centro del circulo (x,y) = (32.0 , 5.0) y radio: 45.0\n",
            "Punto aleatorio R2= (x2,y2) que puede o no estar presente dentro de la circunferencia = (17 , -20)\n",
            " \n",
            "El punto R2 esta dentro del circulo\n"
          ]
        }
      ]
    },
    {
      "cell_type": "markdown",
      "source": [
        "### Punto numero 7 - Longitudes Triangulo"
      ],
      "metadata": {
        "id": "OwscZaFktpPv"
      }
    },
    {
      "cell_type": "code",
      "source": [
        "L1 = float(input(\"Ingrese una longitud para el lado 1 del triangulo: \"))\n",
        "L2 = float(input(\"Ingrese una longitud para el lado 2 del triangulo: \"))\n",
        "L3 = float(input(\"Ingrese una longitud para el lado 3 del triangulo: \"))\n",
        "\n",
        "print(\" \")\n",
        "print(\"Medidas lados del triangulo: \"+\"(\"+str(L1)+\" , \"+str(L2)+\" , \"+str(L3)+\")\")\n",
        "print(\" \")\n",
        "\n",
        "if (L1 + L2 > L3) or (L2 + L3 > L1) or (L1 + L3 > L2):\n",
        "  print(\"Es posible crear un triangulo con las dimensiones dadas\")\n",
        "else:\n",
        "  print(\"No es posible crear un triangulo con las dimensiones dadas\")"
      ],
      "metadata": {
        "colab": {
          "base_uri": "https://localhost:8080/"
        },
        "id": "XyceZg3juD2E",
        "outputId": "8261ce62-634d-4f28-a147-391594b29533"
      },
      "execution_count": 75,
      "outputs": [
        {
          "output_type": "stream",
          "name": "stdout",
          "text": [
            "Ingrese una longitud para el lado 1 del triangulo: 1\n",
            "Ingrese una longitud para el lado 2 del triangulo: 5\n",
            "Ingrese una longitud para el lado 3 del triangulo: 6\n",
            " \n",
            "Medidas lados del triangulo: (1.0 , 5.0 , 6.0)\n",
            " \n",
            "Es posible crear un triangulo con las dimensiones dadas\n"
          ]
        }
      ]
    },
    {
      "cell_type": "markdown",
      "source": [
        "### Octavo punto - Paises America"
      ],
      "metadata": {
        "id": "3mty5S1NxqpQ"
      }
    },
    {
      "cell_type": "code",
      "source": [
        "print(\"Escriba el nombre de un pais del Continente americano en letras minusculas, sin tildes ni caracteres chimbos, para que le funcione el programa\")\n",
        "pais = str(input(\"Ingrese el nombre del pais: \")).strip()\n",
        "\n",
        "match pais:\n",
        "\n",
        "    case \"canada\":\n",
        "        print(\"Capital: Ottawa\")\n",
        "    case \"estados unidos\":\n",
        "        print(\"Capital: Washington D.C.\")\n",
        "    case \"mexico\":\n",
        "        print(\"Capital: Ciudad de México\")\n",
        "    case \"belice\":\n",
        "        print(\"Capital: Belmopan\")\n",
        "    case \"costa rica\":\n",
        "        print(\"Capital: San Jose\")\n",
        "    case \"el salvador\":\n",
        "        print(\"Capital: San Salvador\")\n",
        "    case \"guatemala\":\n",
        "        print(\"Capital: Ciudad de Guatemala\")\n",
        "    case \"honduras\":\n",
        "        print(\"Capital: Tegucigalpa\")\n",
        "    case \"nicaragua\":\n",
        "        print(\"Capital: Managua\")\n",
        "    case \"panama\":\n",
        "        print(\"Capital: Ciudad de Panama\")\n",
        "    case \"antigua y barbuda\":\n",
        "        print(\"Capital: Saint John’s\")\n",
        "    case \"bahamas\":\n",
        "        print(\"Capital: Nasau\")\n",
        "    case \"barbados\":\n",
        "        print(\"Capital: Bridgetown\")\n",
        "    case \"cuba\":\n",
        "        print(\"Capital: La Habana\")\n",
        "    case \"dominica\":\n",
        "        print(\"Capital: Roseau\")\n",
        "    case \"granada\":\n",
        "        print(\"Capital: Saint George’s\")\n",
        "    case \"haiti\":\n",
        "        print(\"Capital: Puerto Príncipe\")\n",
        "    case \"jamaica\":\n",
        "        print(\"Capital: Kingston\")\n",
        "    case \"republica dominicana\":\n",
        "        print(\"Capital: Santo Domingo\")\n",
        "    case \"san cristobal y nieves\":\n",
        "        print(\"Capital: Basseterre\")\n",
        "    case \"santa lucia\":\n",
        "        print(\"Capital: Castries\")\n",
        "    case \"san vicente y las granadinas\":\n",
        "        print(\"Capital: Kingstown\")\n",
        "    case \"trinidad y tobago\":\n",
        "        print(\"Capital: Puerto Espana\")\n",
        "    case \"argentina\":\n",
        "        print(\"Capital: Buenos Aires\")\n",
        "    case \"bolivia\":\n",
        "        print(\"Capital: Sucre (constitucional) y La Paz (sede de gobierno)\")\n",
        "    case \"brasil\":\n",
        "        print(\"Capital: Brasilia\")\n",
        "    case \"chile\":\n",
        "        print(\"Capital: Santiago\")\n",
        "    case \"colombia\":\n",
        "        print(\"Capital: Bogota\")\n",
        "    case \"ecuador\":\n",
        "        print(\"Capital: Quito\")\n",
        "    case \"guyana\":\n",
        "        print(\"Capital: Georgetown\")\n",
        "    case \"paraguay\":\n",
        "        print(\"Capital: Asuncion\")\n",
        "    case \"perú\":\n",
        "        print(\"Capital: Lima\")\n",
        "    case \"surinam\":\n",
        "        print(\"Capital: Paramaribo\")\n",
        "    case \"uruguay\":\n",
        "        print(\"Capital: Montevideo\")\n",
        "    case \"venezuela\":\n",
        "        print(\"Capital: Caracas\")\n",
        "    case _:\n",
        "        print(\"País no identificado, asegurese de escribir el nombre del pais segun las condiciones iniciales, porfavor, que me da pereza arreglar sus errores, vea que son las 12 de la noche\")\n"
      ],
      "metadata": {
        "colab": {
          "base_uri": "https://localhost:8080/"
        },
        "id": "tqugjE8GyOzu",
        "outputId": "3b89e960-a878-4e09-8869-025d8d665a2f"
      },
      "execution_count": 77,
      "outputs": [
        {
          "output_type": "stream",
          "name": "stdout",
          "text": [
            "Escriba el nombre de un pais del Continente americano en letras minusculas, sin tildes ni caracteres chimbos, para que le funcione el programa\n",
            "Ingrese el nombre del pais: Peru\n",
            "País no identificado, asegurese de escribir el nombre del pais segun las condiciones iniciales, porfavor, que me da pereza arreglar sus errores, vea que son las 12 de la noche\n"
          ]
        }
      ]
    }
  ]
}